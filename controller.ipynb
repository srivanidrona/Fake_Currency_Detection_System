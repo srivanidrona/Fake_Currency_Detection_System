{
 "cells": [
  {
   "cell_type": "code",
   "execution_count": null,
   "metadata": {},
   "outputs": [],
   "source": [
    "# Importing important libraries\n",
    "import cv2\n",
    "import numpy as np\n",
    "import matplotlib.pyplot as plt\n",
    "from skimage.metrics import structural_similarity as ssim\n",
    "\n",
    "# Resizing the plots\n",
    "plt.rcParams[\"figure.figsize\"] = (12, 12)\n",
    "\n",
    "# Clear stored variables at the beginning\n",
    "%store -z\n",
    "\n",
    "# Run the updated gui_1.ipynb (This file should now include full-screen updates if applicable)\n",
    "%run ./gui1.ipynb\n",
    "\n",
    "# Read the variables produced by gui_1.ipynb\n",
    "%store -r selectedImage\n",
    "%store -r path\n",
    "%store -r option\n",
    "\n",
    "print('Image selected:', selectedImage)\n",
    "print('Path:', path)\n",
    "print('Currency type:', option)\n",
    "\n",
    "# Only proceed if the image has been successfully selected and processed\n",
    "if selectedImage:\n",
    "    # Run the 500_Testing notebook for image analysis\n",
    "    %run ./500_Testing.ipynb\n",
    "    \n",
    "    # Read the result_list variable from 500_Testing.ipynb\n",
    "    %store -r result_list\n",
    "\n",
    "    # Display the results if result_list is available\n",
    "    if result_list:\n",
    "        for x in result_list:\n",
    "            if x[0] is not None:\n",
    "                plt.imshow(x[0])  # Show the processed images\n",
    "                plt.show()\n",
    "\n",
    "    # Run the updated gui_2.ipynb to display output in GUI\n",
    "    %run ./gui2.ipynb\n",
    "\n",
    "# Clear stored variables at the end of the controller run\n",
    "%store -z\n"
   ]
  }
 ],
 "metadata": {
  "kernelspec": {
   "display_name": "Python 3",
   "language": "python",
   "name": "python3"
  },
  "language_info": {
   "codemirror_mode": {
    "name": "ipython",
    "version": 3
   },
   "file_extension": ".py",
   "mimetype": "text/x-python",
   "name": "python",
   "nbconvert_exporter": "python",
   "pygments_lexer": "ipython3",
   "version": "3.8.2"
  }
 },
 "nbformat": 4,
 "nbformat_minor": 2
}
